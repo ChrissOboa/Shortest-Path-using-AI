{
  "nbformat": 4,
  "nbformat_minor": 0,
  "metadata": {
    "colab": {
      "provenance": []
    },
    "kernelspec": {
      "name": "python3",
      "display_name": "Python 3"
    },
    "language_info": {
      "name": "python"
    }
  },
  "cells": [
    {
      "cell_type": "markdown",
      "source": [
        "Question 2b: By Chriss Jordan Oboa"
      ],
      "metadata": {
        "id": "ETVg2F9Wp7M9"
      }
    },
    {
      "cell_type": "code",
      "execution_count": null,
      "metadata": {
        "id": "BejJG1Kpba1u"
      },
      "outputs": [],
      "source": [
        "\n",
        "import numpy as np\n",
        "import random\n",
        "\n",
        "from datetime import datetime"
      ]
    },
    {
      "cell_type": "markdown",
      "source": [],
      "metadata": {
        "id": "EVNDjpsgdXNf"
      }
    },
    {
      "cell_type": "code",
      "source": [
        "n_cities = 5\n",
        "\n",
        "n_population = 100\n",
        "\n",
        "mutation_rate = 0.3"
      ],
      "metadata": {
        "id": "AOe11AgLbg4Y"
      },
      "execution_count": null,
      "outputs": []
    },
    {
      "cell_type": "code",
      "source": [
        "coordinates_list = [[0, 25.1, 21.9, 31.7, 45.5], [25.1, 0, 44.5, 18, 68.6], [21.9, 44.9, 50.7, 27.7], [31.7, 18 ,50.7, 0, 74.4], [45.5, 68.6, 27.7, 74.4, 0]]\n",
        "#[[x,y] for x,y in zip(np.random.randint(0,100,n_cities),np.random.randint(0,100,n_cities))]\n",
        "names_list = np.array(['Frederick', 'Hagerstown', 'Germantown','Shepherdstown', 'Washington DC'])\n",
        "cities_dict = { x:y for x,y in zip(names_list,coordinates_list)}\n",
        "\n",
        "# Function to compute the distance between two points\n",
        "def compute_city_distance_coordinates(a,b):\n",
        "    return ((a[0]-b[0])**2+(a[1]-b[1])**2)**0.5\n",
        "\n",
        "def compute_city_distance_names(city_a, city_b, cities_dict):\n",
        "    return compute_city_distance_coordinates(cities_dict[city_a], cities_dict[city_b])\n",
        "\n",
        "cities_dict"
      ],
      "metadata": {
        "colab": {
          "base_uri": "https://localhost:8080/"
        },
        "id": "UmNQ_g2Pbjwc",
        "outputId": "2d4dd369-c2c1-4dda-ee4d-8c65d6c06863"
      },
      "execution_count": null,
      "outputs": [
        {
          "output_type": "execute_result",
          "data": {
            "text/plain": [
              "{'Frederick': [0, 25.1, 21.9, 31.7, 45.5],\n",
              " 'Hagerstown': [25.1, 0, 44.5, 18, 68.6],\n",
              " 'Germantown': [21.9, 44.9, 50.7, 27.7],\n",
              " 'Shepherdstown': [31.7, 18, 50.7, 0, 74.4],\n",
              " 'Washington DC': [45.5, 68.6, 27.7, 74.4, 0]}"
            ]
          },
          "metadata": {},
          "execution_count": 33
        }
      ]
    },
    {
      "cell_type": "markdown",
      "source": [
        "1. Create the first population set\n",
        "\n",
        "We randomly shuffle the cities N times where N=population_size"
      ],
      "metadata": {
        "id": "briC4sgdpKU9"
      }
    },
    {
      "cell_type": "code",
      "source": [
        "# First step: Create the first population set\n",
        "def genesis(city_list, n_population):\n",
        "\n",
        "    population_set = []\n",
        "    for i in range(n_population):\n",
        "        #Randomly generating a new solution\n",
        "        sol_i = city_list[np.random.choice(list(range(n_cities)), n_cities, replace=False)]\n",
        "        population_set.append(sol_i)\n",
        "    return np.array(population_set)\n",
        "\n",
        "population_set = genesis(names_list, n_population)\n",
        "population_set"
      ],
      "metadata": {
        "colab": {
          "base_uri": "https://localhost:8080/"
        },
        "id": "5FfiYHeAcpDY",
        "outputId": "17332457-4dfd-4ea7-d937-3dd0fd8cae4f"
      },
      "execution_count": null,
      "outputs": [
        {
          "output_type": "execute_result",
          "data": {
            "text/plain": [
              "array([['Hagerstown', 'Germantown', 'Shepherdstown', 'Washington DC',\n",
              "        'Frederick'],\n",
              "       ['Hagerstown', 'Washington DC', 'Shepherdstown', 'Frederick',\n",
              "        'Germantown'],\n",
              "       ['Hagerstown', 'Washington DC', 'Shepherdstown', 'Frederick',\n",
              "        'Germantown'],\n",
              "       ['Washington DC', 'Shepherdstown', 'Germantown', 'Hagerstown',\n",
              "        'Frederick'],\n",
              "       ['Frederick', 'Germantown', 'Hagerstown', 'Shepherdstown',\n",
              "        'Washington DC'],\n",
              "       ['Frederick', 'Shepherdstown', 'Germantown', 'Washington DC',\n",
              "        'Hagerstown'],\n",
              "       ['Washington DC', 'Frederick', 'Shepherdstown', 'Hagerstown',\n",
              "        'Germantown'],\n",
              "       ['Washington DC', 'Germantown', 'Shepherdstown', 'Frederick',\n",
              "        'Hagerstown'],\n",
              "       ['Shepherdstown', 'Washington DC', 'Hagerstown', 'Germantown',\n",
              "        'Frederick'],\n",
              "       ['Washington DC', 'Hagerstown', 'Frederick', 'Germantown',\n",
              "        'Shepherdstown'],\n",
              "       ['Hagerstown', 'Frederick', 'Shepherdstown', 'Washington DC',\n",
              "        'Germantown'],\n",
              "       ['Germantown', 'Frederick', 'Shepherdstown', 'Washington DC',\n",
              "        'Hagerstown'],\n",
              "       ['Shepherdstown', 'Washington DC', 'Hagerstown', 'Frederick',\n",
              "        'Germantown'],\n",
              "       ['Germantown', 'Washington DC', 'Shepherdstown', 'Hagerstown',\n",
              "        'Frederick'],\n",
              "       ['Hagerstown', 'Shepherdstown', 'Washington DC', 'Frederick',\n",
              "        'Germantown'],\n",
              "       ['Shepherdstown', 'Frederick', 'Hagerstown', 'Germantown',\n",
              "        'Washington DC'],\n",
              "       ['Frederick', 'Germantown', 'Shepherdstown', 'Hagerstown',\n",
              "        'Washington DC'],\n",
              "       ['Shepherdstown', 'Hagerstown', 'Frederick', 'Germantown',\n",
              "        'Washington DC'],\n",
              "       ['Frederick', 'Hagerstown', 'Germantown', 'Shepherdstown',\n",
              "        'Washington DC'],\n",
              "       ['Washington DC', 'Frederick', 'Germantown', 'Shepherdstown',\n",
              "        'Hagerstown'],\n",
              "       ['Shepherdstown', 'Hagerstown', 'Frederick', 'Washington DC',\n",
              "        'Germantown'],\n",
              "       ['Germantown', 'Hagerstown', 'Frederick', 'Washington DC',\n",
              "        'Shepherdstown'],\n",
              "       ['Shepherdstown', 'Hagerstown', 'Washington DC', 'Germantown',\n",
              "        'Frederick'],\n",
              "       ['Shepherdstown', 'Washington DC', 'Hagerstown', 'Frederick',\n",
              "        'Germantown'],\n",
              "       ['Shepherdstown', 'Frederick', 'Germantown', 'Washington DC',\n",
              "        'Hagerstown'],\n",
              "       ['Shepherdstown', 'Hagerstown', 'Washington DC', 'Germantown',\n",
              "        'Frederick'],\n",
              "       ['Shepherdstown', 'Germantown', 'Frederick', 'Hagerstown',\n",
              "        'Washington DC'],\n",
              "       ['Washington DC', 'Frederick', 'Hagerstown', 'Germantown',\n",
              "        'Shepherdstown'],\n",
              "       ['Hagerstown', 'Germantown', 'Washington DC', 'Shepherdstown',\n",
              "        'Frederick'],\n",
              "       ['Frederick', 'Shepherdstown', 'Germantown', 'Hagerstown',\n",
              "        'Washington DC'],\n",
              "       ['Shepherdstown', 'Frederick', 'Germantown', 'Washington DC',\n",
              "        'Hagerstown'],\n",
              "       ['Hagerstown', 'Germantown', 'Shepherdstown', 'Washington DC',\n",
              "        'Frederick'],\n",
              "       ['Shepherdstown', 'Hagerstown', 'Germantown', 'Washington DC',\n",
              "        'Frederick'],\n",
              "       ['Shepherdstown', 'Germantown', 'Hagerstown', 'Washington DC',\n",
              "        'Frederick'],\n",
              "       ['Frederick', 'Hagerstown', 'Germantown', 'Shepherdstown',\n",
              "        'Washington DC'],\n",
              "       ['Germantown', 'Shepherdstown', 'Washington DC', 'Hagerstown',\n",
              "        'Frederick'],\n",
              "       ['Hagerstown', 'Germantown', 'Washington DC', 'Frederick',\n",
              "        'Shepherdstown'],\n",
              "       ['Washington DC', 'Germantown', 'Hagerstown', 'Frederick',\n",
              "        'Shepherdstown'],\n",
              "       ['Frederick', 'Shepherdstown', 'Washington DC', 'Hagerstown',\n",
              "        'Germantown'],\n",
              "       ['Washington DC', 'Shepherdstown', 'Frederick', 'Hagerstown',\n",
              "        'Germantown'],\n",
              "       ['Washington DC', 'Germantown', 'Shepherdstown', 'Frederick',\n",
              "        'Hagerstown'],\n",
              "       ['Hagerstown', 'Germantown', 'Frederick', 'Shepherdstown',\n",
              "        'Washington DC'],\n",
              "       ['Shepherdstown', 'Washington DC', 'Frederick', 'Hagerstown',\n",
              "        'Germantown'],\n",
              "       ['Washington DC', 'Shepherdstown', 'Germantown', 'Frederick',\n",
              "        'Hagerstown'],\n",
              "       ['Shepherdstown', 'Washington DC', 'Frederick', 'Germantown',\n",
              "        'Hagerstown'],\n",
              "       ['Frederick', 'Germantown', 'Shepherdstown', 'Washington DC',\n",
              "        'Hagerstown'],\n",
              "       ['Frederick', 'Washington DC', 'Germantown', 'Shepherdstown',\n",
              "        'Hagerstown'],\n",
              "       ['Frederick', 'Germantown', 'Hagerstown', 'Washington DC',\n",
              "        'Shepherdstown'],\n",
              "       ['Frederick', 'Germantown', 'Hagerstown', 'Washington DC',\n",
              "        'Shepherdstown'],\n",
              "       ['Shepherdstown', 'Frederick', 'Hagerstown', 'Washington DC',\n",
              "        'Germantown'],\n",
              "       ['Washington DC', 'Frederick', 'Germantown', 'Shepherdstown',\n",
              "        'Hagerstown'],\n",
              "       ['Frederick', 'Germantown', 'Hagerstown', 'Shepherdstown',\n",
              "        'Washington DC'],\n",
              "       ['Hagerstown', 'Shepherdstown', 'Washington DC', 'Germantown',\n",
              "        'Frederick'],\n",
              "       ['Hagerstown', 'Germantown', 'Frederick', 'Shepherdstown',\n",
              "        'Washington DC'],\n",
              "       ['Washington DC', 'Hagerstown', 'Shepherdstown', 'Frederick',\n",
              "        'Germantown'],\n",
              "       ['Germantown', 'Shepherdstown', 'Frederick', 'Hagerstown',\n",
              "        'Washington DC'],\n",
              "       ['Frederick', 'Washington DC', 'Hagerstown', 'Shepherdstown',\n",
              "        'Germantown'],\n",
              "       ['Germantown', 'Shepherdstown', 'Washington DC', 'Frederick',\n",
              "        'Hagerstown'],\n",
              "       ['Germantown', 'Hagerstown', 'Shepherdstown', 'Frederick',\n",
              "        'Washington DC'],\n",
              "       ['Shepherdstown', 'Hagerstown', 'Germantown', 'Washington DC',\n",
              "        'Frederick'],\n",
              "       ['Shepherdstown', 'Frederick', 'Hagerstown', 'Germantown',\n",
              "        'Washington DC'],\n",
              "       ['Germantown', 'Frederick', 'Washington DC', 'Shepherdstown',\n",
              "        'Hagerstown'],\n",
              "       ['Frederick', 'Hagerstown', 'Germantown', 'Washington DC',\n",
              "        'Shepherdstown'],\n",
              "       ['Hagerstown', 'Germantown', 'Shepherdstown', 'Washington DC',\n",
              "        'Frederick'],\n",
              "       ['Shepherdstown', 'Frederick', 'Hagerstown', 'Germantown',\n",
              "        'Washington DC'],\n",
              "       ['Shepherdstown', 'Frederick', 'Washington DC', 'Germantown',\n",
              "        'Hagerstown'],\n",
              "       ['Frederick', 'Washington DC', 'Germantown', 'Hagerstown',\n",
              "        'Shepherdstown'],\n",
              "       ['Washington DC', 'Shepherdstown', 'Hagerstown', 'Frederick',\n",
              "        'Germantown'],\n",
              "       ['Frederick', 'Hagerstown', 'Washington DC', 'Shepherdstown',\n",
              "        'Germantown'],\n",
              "       ['Frederick', 'Hagerstown', 'Washington DC', 'Shepherdstown',\n",
              "        'Germantown'],\n",
              "       ['Hagerstown', 'Germantown', 'Washington DC', 'Frederick',\n",
              "        'Shepherdstown'],\n",
              "       ['Washington DC', 'Hagerstown', 'Shepherdstown', 'Frederick',\n",
              "        'Germantown'],\n",
              "       ['Hagerstown', 'Washington DC', 'Shepherdstown', 'Frederick',\n",
              "        'Germantown'],\n",
              "       ['Washington DC', 'Frederick', 'Hagerstown', 'Shepherdstown',\n",
              "        'Germantown'],\n",
              "       ['Washington DC', 'Hagerstown', 'Frederick', 'Shepherdstown',\n",
              "        'Germantown'],\n",
              "       ['Germantown', 'Hagerstown', 'Washington DC', 'Shepherdstown',\n",
              "        'Frederick'],\n",
              "       ['Frederick', 'Shepherdstown', 'Germantown', 'Washington DC',\n",
              "        'Hagerstown'],\n",
              "       ['Hagerstown', 'Germantown', 'Washington DC', 'Shepherdstown',\n",
              "        'Frederick'],\n",
              "       ['Washington DC', 'Shepherdstown', 'Germantown', 'Hagerstown',\n",
              "        'Frederick'],\n",
              "       ['Shepherdstown', 'Frederick', 'Hagerstown', 'Germantown',\n",
              "        'Washington DC'],\n",
              "       ['Hagerstown', 'Shepherdstown', 'Washington DC', 'Germantown',\n",
              "        'Frederick'],\n",
              "       ['Hagerstown', 'Washington DC', 'Shepherdstown', 'Frederick',\n",
              "        'Germantown'],\n",
              "       ['Shepherdstown', 'Frederick', 'Hagerstown', 'Germantown',\n",
              "        'Washington DC'],\n",
              "       ['Washington DC', 'Frederick', 'Shepherdstown', 'Hagerstown',\n",
              "        'Germantown'],\n",
              "       ['Frederick', 'Shepherdstown', 'Germantown', 'Washington DC',\n",
              "        'Hagerstown'],\n",
              "       ['Hagerstown', 'Germantown', 'Washington DC', 'Shepherdstown',\n",
              "        'Frederick'],\n",
              "       ['Shepherdstown', 'Germantown', 'Hagerstown', 'Frederick',\n",
              "        'Washington DC'],\n",
              "       ['Germantown', 'Hagerstown', 'Frederick', 'Shepherdstown',\n",
              "        'Washington DC'],\n",
              "       ['Washington DC', 'Shepherdstown', 'Frederick', 'Germantown',\n",
              "        'Hagerstown'],\n",
              "       ['Frederick', 'Washington DC', 'Germantown', 'Hagerstown',\n",
              "        'Shepherdstown'],\n",
              "       ['Germantown', 'Washington DC', 'Hagerstown', 'Frederick',\n",
              "        'Shepherdstown'],\n",
              "       ['Washington DC', 'Shepherdstown', 'Frederick', 'Hagerstown',\n",
              "        'Germantown'],\n",
              "       ['Shepherdstown', 'Hagerstown', 'Washington DC', 'Germantown',\n",
              "        'Frederick'],\n",
              "       ['Hagerstown', 'Shepherdstown', 'Germantown', 'Frederick',\n",
              "        'Washington DC'],\n",
              "       ['Hagerstown', 'Germantown', 'Frederick', 'Shepherdstown',\n",
              "        'Washington DC'],\n",
              "       ['Frederick', 'Washington DC', 'Hagerstown', 'Germantown',\n",
              "        'Shepherdstown'],\n",
              "       ['Hagerstown', 'Washington DC', 'Frederick', 'Germantown',\n",
              "        'Shepherdstown'],\n",
              "       ['Washington DC', 'Shepherdstown', 'Germantown', 'Hagerstown',\n",
              "        'Frederick'],\n",
              "       ['Frederick', 'Germantown', 'Shepherdstown', 'Washington DC',\n",
              "        'Hagerstown'],\n",
              "       ['Hagerstown', 'Washington DC', 'Shepherdstown', 'Frederick',\n",
              "        'Germantown']], dtype='<U13')"
            ]
          },
          "metadata": {},
          "execution_count": 34
        }
      ]
    },
    {
      "cell_type": "markdown",
      "source": [
        "2. Evaluate solutions fitness\n",
        "\n",
        "The solutions are defined so that the first element on the list is the first city to visit, then the second, etc. and the last city is linked to the first. The fitness function needs to compute the distance between subsequent cities."
      ],
      "metadata": {
        "id": "W_KGM8aLpTwi"
      }
    },
    {
      "cell_type": "code",
      "source": [
        "def fitness_eval(city_list, cities_dict):\n",
        "    total = 0\n",
        "    for i in range(n_cities-1):\n",
        "        a = city_list[i]\n",
        "        b = city_list[i+1]\n",
        "        total += compute_city_distance_names(a,b, cities_dict)\n",
        "    return total"
      ],
      "metadata": {
        "id": "omLXQuLgc-kJ"
      },
      "execution_count": null,
      "outputs": []
    },
    {
      "cell_type": "code",
      "source": [
        "def get_all_fitnes(population_set, cities_dict):\n",
        "    fitnes_list = np.zeros(n_population)\n",
        "\n",
        "    #Looping over all solutions computing the fitness for each solution\n",
        "    for i in  range(n_population):\n",
        "        fitnes_list[i] = fitness_eval(population_set[i], cities_dict)\n",
        "\n",
        "    return fitnes_list\n",
        "\n",
        "fitnes_list = get_all_fitnes(population_set,cities_dict)\n",
        "fitnes_list"
      ],
      "metadata": {
        "colab": {
          "base_uri": "https://localhost:8080/"
        },
        "id": "n1i2mbsDdGGW",
        "outputId": "b7bbea9d-65ca-4f3d-9c9f-76aa89b6c129"
      },
      "execution_count": null,
      "outputs": [
        {
          "output_type": "execute_result",
          "data": {
            "text/plain": [
              "array([189.03987807, 186.02615786, 186.02615786, 161.58824693,\n",
              "       146.15752995, 166.13012473, 159.619514  , 130.05789745,\n",
              "       198.55466328, 165.2189976 , 153.87643679, 186.02615786,\n",
              "       189.03753695, 140.56290984, 164.09203476, 146.44225399,\n",
              "       148.89409155, 117.63855956, 161.58824693, 140.27349542,\n",
              "       151.06323184, 195.90710828, 153.71078684, 189.03753695,\n",
              "       167.0243138 , 153.71078684, 165.2189976 , 172.08856893,\n",
              "       163.39356313, 177.69778598, 167.0243138 , 189.03987807,\n",
              "       160.58035817, 208.16079621, 161.58824693, 188.14334788,\n",
              "       173.89388513, 146.44225399, 201.51632533, 165.44409804,\n",
              "       130.05789745, 159.47105691, 195.90710828, 146.09807946,\n",
              "       189.93406714, 182.17030674, 144.19600164, 198.55466328,\n",
              "       198.55466328, 172.99735494, 140.27349542, 146.15752995,\n",
              "       134.5898687 , 159.47105691, 152.74994267, 168.18065965,\n",
              "       182.31876384, 179.52275174, 159.619514  , 160.58035817,\n",
              "       146.44225399, 164.09203476, 166.40494221, 189.03987807,\n",
              "       146.44225399, 173.89388513, 160.58035817, 136.64040362,\n",
              "       188.14334788, 188.14334788, 173.89388513, 152.74994267,\n",
              "       186.02615786, 146.24653656, 168.18065965, 201.51632533,\n",
              "       166.13012473, 163.39356313, 161.58824693, 146.44225399,\n",
              "       134.5898687 , 186.02615786, 146.44225399, 159.619514  ,\n",
              "       166.13012473, 163.39356313, 172.08856893, 165.44409804,\n",
              "       159.47105691, 160.58035817, 172.99735494, 165.44409804,\n",
              "       153.71078684, 140.27349542, 159.47105691, 208.16079621,\n",
              "       192.67062874, 161.58824693, 182.17030674, 186.02615786])"
            ]
          },
          "metadata": {},
          "execution_count": 36
        }
      ]
    },
    {
      "cell_type": "markdown",
      "source": [
        "3. Progenitors selection\n",
        "\n",
        "I will select a new set of progenitors using the Roulette Wheel Selection. Generates a list of progenitor pairs where N= len(population_set) but at each position there are two solutions to merge"
      ],
      "metadata": {
        "id": "lRWoONr4pahW"
      }
    },
    {
      "cell_type": "code",
      "source": [
        "def progenitor_selection(population_set,fitnes_list):\n",
        "    total_fit = fitnes_list.sum()\n",
        "    prob_list = fitnes_list/total_fit\n",
        "    \n",
        "    #Notice there is the chance that a progenitor. mates with oneself\n",
        "    progenitor_list_a = np.random.choice(list(range(len(population_set))), len(population_set),p=prob_list, replace=True)\n",
        "    progenitor_list_b = np.random.choice(list(range(len(population_set))), len(population_set),p=prob_list, replace=True)\n",
        "    \n",
        "    progenitor_list_a = population_set[progenitor_list_a]\n",
        "    progenitor_list_b = population_set[progenitor_list_b]\n",
        "    \n",
        "    \n",
        "    return np.array([progenitor_list_a,progenitor_list_b])\n",
        "\n",
        "\n",
        "progenitor_list = progenitor_selection(population_set,fitnes_list)\n",
        "progenitor_list[0][2]"
      ],
      "metadata": {
        "colab": {
          "base_uri": "https://localhost:8080/"
        },
        "id": "a9VhvO3tdIYp",
        "outputId": "619160b6-098a-45bb-c5ac-14286cfc3e84"
      },
      "execution_count": null,
      "outputs": [
        {
          "output_type": "execute_result",
          "data": {
            "text/plain": [
              "array(['Frederick', 'Shepherdstown', 'Germantown', 'Washington DC',\n",
              "       'Hagerstown'], dtype='<U13')"
            ]
          },
          "metadata": {},
          "execution_count": 37
        }
      ]
    },
    {
      "cell_type": "markdown",
      "source": [
        "4.Mating\n",
        "\n",
        "For each pair of parents we'll generate an offspring pair. Since we cannot repeat cities what we'll do is copy a random chunk from one progenitor and fill the blanks with the other progenitor."
      ],
      "metadata": {
        "id": "6l1MygtPn3rt"
      }
    },
    {
      "cell_type": "code",
      "source": [
        "def mate_progenitors(prog_a, prog_b):\n",
        "    offspring = prog_a[0:5]\n",
        "\n",
        "    for city in prog_b:\n",
        "\n",
        "        if not city in offspring:\n",
        "            offspring = np.concatenate((offspring,[city]))\n",
        "\n",
        "    return offspring\n",
        "            \n",
        "    \n",
        "    \n",
        "def mate_population(progenitor_list):\n",
        "    new_population_set = []\n",
        "    for i in range(progenitor_list.shape[1]):\n",
        "        prog_a, prog_b = progenitor_list[0][i], progenitor_list[1][i]\n",
        "        offspring = mate_progenitors(prog_a, prog_b)\n",
        "        new_population_set.append(offspring)\n",
        "        \n",
        "    return new_population_set\n",
        "\n",
        "new_population_set = mate_population(progenitor_list)\n",
        "new_population_set[0]"
      ],
      "metadata": {
        "colab": {
          "base_uri": "https://localhost:8080/"
        },
        "id": "HVV8kpe7dj3v",
        "outputId": "8619cad5-8ad5-4de6-8861-1c84db675376"
      },
      "execution_count": null,
      "outputs": [
        {
          "output_type": "execute_result",
          "data": {
            "text/plain": [
              "array(['Shepherdstown', 'Frederick', 'Hagerstown', 'Germantown',\n",
              "       'Washington DC'], dtype='<U13')"
            ]
          },
          "metadata": {},
          "execution_count": 38
        }
      ]
    },
    {
      "cell_type": "markdown",
      "source": [
        "5. Mutation\n",
        "Now for each element of the new population we add a random chance of swapping\n",
        "\n"
      ],
      "metadata": {
        "id": "MUthFrRgdu-l"
      }
    },
    {
      "cell_type": "code",
      "source": [
        "def mutate_offspring(offspring):\n",
        "    for q in range(int(n_cities*mutation_rate)):\n",
        "        a = np.random.randint(0,n_cities)\n",
        "        b = np.random.randint(0,n_cities)\n",
        "\n",
        "        offspring[a], offspring[b] = offspring[b], offspring[a]\n",
        "\n",
        "    return offspring\n",
        "    \n",
        "    \n",
        "def mutate_population(new_population_set):\n",
        "    mutated_pop = []\n",
        "    for offspring in new_population_set:\n",
        "        mutated_pop.append(mutate_offspring(offspring))\n",
        "    return mutated_pop\n",
        "\n",
        "mutated_pop = mutate_population(new_population_set)\n",
        "mutated_pop[0]\n"
      ],
      "metadata": {
        "colab": {
          "base_uri": "https://localhost:8080/"
        },
        "id": "nni0_vGvdxKy",
        "outputId": "f589ae9d-9e60-4fa2-9ddc-eb544623b76a"
      },
      "execution_count": null,
      "outputs": [
        {
          "output_type": "execute_result",
          "data": {
            "text/plain": [
              "array(['Shepherdstown', 'Washington DC', 'Hagerstown', 'Germantown',\n",
              "       'Frederick'], dtype='<U13')"
            ]
          },
          "metadata": {},
          "execution_count": 39
        }
      ]
    },
    {
      "cell_type": "markdown",
      "source": [
        "6. Stopping\n",
        "\n",
        "To select the stopping criteria we'll need to create a loop to stop first. Then I'll set it to loop at 1000 iterations."
      ],
      "metadata": {
        "id": "YIDGFJeTd1uN"
      }
    },
    {
      "cell_type": "code",
      "source": [
        "best_solution = [-1,np.inf,np.array([])]\n",
        "for i in range(10000):\n",
        "    if i%100==0: print(i, fitnes_list.min(), fitnes_list.mean(), datetime.now().strftime(\"%d/%m/%y %H:%M\"))\n",
        "    fitnes_list = get_all_fitnes(mutated_pop,cities_dict)\n",
        "    \n",
        "    #Saving the best solution\n",
        "    if fitnes_list.min() < best_solution[1]:\n",
        "        best_solution[0] = i\n",
        "        best_solution[1] = fitnes_list.min()\n",
        "        best_solution[2] = np.array(mutated_pop)[fitnes_list.min() == fitnes_list]\n",
        "    \n",
        "    progenitor_list = progenitor_selection(population_set,fitnes_list)\n",
        "    new_population_set = mate_population(progenitor_list)\n",
        "    \n",
        "    mutated_pop = mutate_population(new_population_set)"
      ],
      "metadata": {
        "colab": {
          "base_uri": "https://localhost:8080/"
        },
        "id": "FKF36fhSeAUn",
        "outputId": "fe846f05-a309-44e0-9598-dc51f89402dd"
      },
      "execution_count": null,
      "outputs": [
        {
          "output_type": "stream",
          "name": "stdout",
          "text": [
            "0 117.63855956092232 166.51231109977505 15/10/22 03:22\n",
            "100 114.62718047296404 165.65740862761209 15/10/22 03:22\n",
            "200 114.62718047296404 162.53243474188463 15/10/22 03:22\n",
            "300 114.62718047296404 165.90273125321582 15/10/22 03:22\n",
            "400 114.62718047296404 161.47442870256756 15/10/22 03:22\n",
            "500 114.62718047296404 165.80097137892733 15/10/22 03:22\n",
            "600 117.63855956092232 163.42557117174798 15/10/22 03:22\n",
            "700 114.62718047296404 164.98472588496395 15/10/22 03:22\n",
            "800 114.62718047296404 165.52533967954375 15/10/22 03:22\n",
            "900 114.62718047296404 165.33312096963257 15/10/22 03:22\n",
            "1000 114.62718047296404 163.0302399069087 15/10/22 03:22\n",
            "1100 114.62718047296404 167.06347265129702 15/10/22 03:22\n",
            "1200 114.62718047296404 164.91532475163126 15/10/22 03:22\n",
            "1300 116.74437049223525 165.9597231055776 15/10/22 03:22\n",
            "1400 114.62718047296404 168.48736271514198 15/10/22 03:22\n",
            "1500 114.62718047296404 161.95032262771892 15/10/22 03:22\n",
            "1600 116.74437049223525 167.8267616196798 15/10/22 03:22\n",
            "1700 114.62718047296404 167.89308518972274 15/10/22 03:22\n",
            "1800 116.74437049223525 165.86854986304752 15/10/22 03:22\n",
            "1900 114.62718047296404 167.46938547544573 15/10/22 03:22\n",
            "2000 116.74437049223525 163.34433797234036 15/10/22 03:22\n",
            "2100 114.62718047296404 165.49992925358183 15/10/22 03:22\n",
            "2200 117.63855956092232 168.5383381053199 15/10/22 03:22\n",
            "2300 116.74437049223525 167.16219247553767 15/10/22 03:22\n",
            "2400 114.62718047296404 164.5325843607757 15/10/22 03:22\n",
            "2500 116.74437049223525 165.46995810806936 15/10/22 03:22\n",
            "2600 114.62718047296404 164.36499684605585 15/10/22 03:22\n",
            "2700 116.74437049223525 166.42574925732688 15/10/22 03:22\n",
            "2800 114.62718047296404 165.68817943690462 15/10/22 03:22\n",
            "2900 114.62718047296404 167.66411760714814 15/10/22 03:22\n",
            "3000 114.62718047296404 165.71595473830072 15/10/22 03:22\n",
            "3100 114.62718047296404 166.11150070892094 15/10/22 03:22\n",
            "3200 114.62718047296404 165.06391596691728 15/10/22 03:22\n",
            "3300 114.62718047296404 166.25500593942922 15/10/22 03:22\n",
            "3400 114.62718047296404 167.47727354019457 15/10/22 03:22\n",
            "3500 114.62718047296404 166.12213307241566 15/10/22 03:22\n",
            "3600 114.62718047296404 166.5817041610311 15/10/22 03:22\n",
            "3700 114.62718047296404 164.98500326600583 15/10/22 03:22\n",
            "3800 114.62718047296404 169.43124625034864 15/10/22 03:22\n",
            "3900 114.62718047296404 161.78448956061925 15/10/22 03:22\n",
            "4000 114.62718047296404 165.65295231263113 15/10/22 03:22\n",
            "4100 114.62718047296404 164.13524691428447 15/10/22 03:22\n",
            "4200 114.62718047296404 160.43389295863267 15/10/22 03:22\n",
            "4300 114.62718047296404 164.65169435937167 15/10/22 03:22\n",
            "4400 116.74437049223525 168.027315707124 15/10/22 03:22\n",
            "4500 114.62718047296404 160.70008783112925 15/10/22 03:22\n",
            "4600 114.62718047296404 166.905616466291 15/10/22 03:22\n",
            "4700 114.62718047296404 162.57512303427092 15/10/22 03:22\n",
            "4800 114.62718047296404 165.39799089154477 15/10/22 03:22\n",
            "4900 117.63855956092232 166.12478782815495 15/10/22 03:22\n",
            "5000 116.74437049223525 165.8286645112763 15/10/22 03:22\n",
            "5100 114.62718047296404 166.01150723473114 15/10/22 03:22\n",
            "5200 116.74437049223525 165.78893228535878 15/10/22 03:22\n",
            "5300 114.62718047296404 164.30166395886255 15/10/22 03:22\n",
            "5400 114.62718047296404 164.05614096016296 15/10/22 03:22\n",
            "5500 114.62718047296404 164.57885659885403 15/10/22 03:22\n",
            "5600 117.6385595609223 168.36570166209785 15/10/22 03:22\n",
            "5700 114.62718047296404 165.92278394332408 15/10/22 03:22\n",
            "5800 114.62718047296404 162.43647948533135 15/10/22 03:22\n",
            "5900 114.62718047296404 165.74428542688912 15/10/22 03:22\n",
            "6000 114.62718047296404 169.00827622092197 15/10/22 03:22\n",
            "6100 114.62718047296404 162.40675669905818 15/10/22 03:22\n",
            "6200 114.62718047296404 166.23752109120312 15/10/22 03:22\n",
            "6300 114.62718047296404 158.39915696056943 15/10/22 03:22\n",
            "6400 114.62718047296404 164.38202251193303 15/10/22 03:22\n",
            "6500 116.74437049223525 165.11999341788643 15/10/22 03:22\n",
            "6600 114.62718047296404 165.48262580651763 15/10/22 03:22\n",
            "6700 114.62718047296404 167.6974373497826 15/10/22 03:22\n",
            "6800 116.74437049223525 164.3552742737481 15/10/22 03:22\n",
            "6900 114.62718047296404 165.01269813844644 15/10/22 03:22\n",
            "7000 114.62718047296404 165.38498284682845 15/10/22 03:22\n",
            "7100 114.62718047296404 165.8999433729346 15/10/22 03:22\n",
            "7200 114.62718047296404 165.13168643233513 15/10/22 03:22\n",
            "7300 114.62718047296404 161.86617746185354 15/10/22 03:22\n",
            "7400 116.74437049223525 164.54140494532422 15/10/22 03:22\n",
            "7500 114.62718047296404 166.8112863207886 15/10/22 03:22\n",
            "7600 114.62718047296404 166.28637565214777 15/10/22 03:22\n",
            "7700 117.6385595609223 163.40367467996555 15/10/22 03:22\n",
            "7800 114.62718047296404 166.04746093659654 15/10/22 03:22\n",
            "7900 114.62718047296404 162.22820196043907 15/10/22 03:22\n",
            "8000 114.62718047296404 163.0641250917629 15/10/22 03:22\n",
            "8100 114.62718047296404 165.86956843719702 15/10/22 03:22\n",
            "8200 114.62718047296404 162.8383413981428 15/10/22 03:22\n",
            "8300 116.74437049223525 163.94150248281304 15/10/22 03:22\n",
            "8400 114.62718047296404 162.50777855839513 15/10/22 03:22\n",
            "8500 114.62718047296404 163.47228601407386 15/10/22 03:22\n",
            "8600 114.62718047296404 163.63277932840236 15/10/22 03:22\n",
            "8700 114.62718047296404 166.04664761388983 15/10/22 03:22\n",
            "8800 114.62718047296404 167.18430657574507 15/10/22 03:22\n",
            "8900 114.62718047296404 163.0449825238046 15/10/22 03:22\n",
            "9000 114.62718047296404 166.19544490247665 15/10/22 03:22\n",
            "9100 114.62718047296404 164.03491429580558 15/10/22 03:22\n",
            "9200 114.62718047296404 165.77593352065261 15/10/22 03:22\n",
            "9300 114.62718047296404 159.75759647100995 15/10/22 03:22\n",
            "9400 114.62718047296404 165.1101044130599 15/10/22 03:22\n",
            "9500 114.62718047296404 163.8114180232999 15/10/22 03:22\n",
            "9600 114.62718047296404 165.65736430551246 15/10/22 03:22\n",
            "9700 114.62718047296404 162.59397870101665 15/10/22 03:22\n",
            "9800 114.62718047296404 161.78670730184092 15/10/22 03:22\n",
            "9900 117.6385595609223 165.08208042136465 15/10/22 03:22\n"
          ]
        }
      ]
    },
    {
      "cell_type": "code",
      "source": [
        "best_solution"
      ],
      "metadata": {
        "colab": {
          "base_uri": "https://localhost:8080/"
        },
        "id": "c72WiC8TeevF",
        "outputId": "888978b0-923a-4772-fd53-7bff96aa6a60"
      },
      "execution_count": null,
      "outputs": [
        {
          "output_type": "execute_result",
          "data": {
            "text/plain": [
              "[2,\n",
              " 204.46012938973442,\n",
              " array([['Frederick', 'Germantown', 'Hagerstown', 'Shepherdstown',\n",
              "         'Washington DC']], dtype='<U13')]"
            ]
          },
          "metadata": {},
          "execution_count": 13
        }
      ]
    }
  ]
}